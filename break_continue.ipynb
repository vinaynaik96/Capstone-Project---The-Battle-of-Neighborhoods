{
  "nbformat": 4,
  "nbformat_minor": 0,
  "metadata": {
    "colab": {
      "name": "break_continue.ipynb",
      "provenance": [],
      "include_colab_link": true
    },
    "kernelspec": {
      "display_name": "Python 3",
      "language": "python",
      "name": "python3"
    }
  },
  "cells": [
    {
      "cell_type": "markdown",
      "metadata": {
        "id": "view-in-github",
        "colab_type": "text"
      },
      "source": [
        "<a href=\"https://colab.research.google.com/github/vinaynaik96/Capstone-Project---The-Battle-of-Neighborhoods/blob/master/break_continue.ipynb\" target=\"_parent\"><img src=\"https://colab.research.google.com/assets/colab-badge.svg\" alt=\"Open In Colab\"/></a>"
      ]
    },
    {
      "cell_type": "markdown",
      "metadata": {
        "id": "sywvYJn4bHvQ",
        "colab_type": "text"
      },
      "source": [
        "# Python break and continue Statements"
      ]
    },
    {
      "cell_type": "markdown",
      "metadata": {
        "id": "Nvwj3K2QbHvU",
        "colab_type": "text"
      },
      "source": [
        "In Python, break and continue statements can alter the flow of a normal loop.\n",
        "\n",
        "Loops iterate over a block of code until test expression is false, but sometimes we wish to terminate the current iteration or even the whole loop without cheking test expression.\n",
        "\n",
        "The break and continue statements are used in these cases."
      ]
    },
    {
      "cell_type": "markdown",
      "metadata": {
        "id": "i3QBjhRtbHvV",
        "colab_type": "text"
      },
      "source": [
        "# Python break Statement"
      ]
    },
    {
      "cell_type": "markdown",
      "metadata": {
        "id": "h6fXbdvObHvY",
        "colab_type": "text"
      },
      "source": [
        "Syntax:\n",
        "    \n",
        "    break"
      ]
    },
    {
      "cell_type": "markdown",
      "metadata": {
        "id": "QcV9OkMjbHva",
        "colab_type": "text"
      },
      "source": [
        "![title](break.jpg)"
      ]
    },
    {
      "cell_type": "markdown",
      "metadata": {
        "id": "021E6hkgbHvc",
        "colab_type": "text"
      },
      "source": [
        "![title](break_works.jpg)"
      ]
    },
    {
      "cell_type": "markdown",
      "metadata": {
        "id": "C54FsONgbHve",
        "colab_type": "text"
      },
      "source": [
        "# Example"
      ]
    },
    {
      "cell_type": "code",
      "metadata": {
        "id": "mpNVa_wObHvg",
        "colab_type": "code",
        "colab": {
          "base_uri": "https://localhost:8080/",
          "height": 102
        },
        "outputId": "b0c4e709-0ebe-47f6-8270-09eb40d69a05"
      },
      "source": [
        "numbers = [1, 2, 3, 4]\n",
        "for num in numbers:          #iterating over list\n",
        "    if num == 4:\n",
        "        continue\n",
        "    print(num)\n",
        "else:\n",
        "    print(\"in the else-block\")\n",
        "print(\"Outside of for loop\")"
      ],
      "execution_count": 2,
      "outputs": [
        {
          "output_type": "stream",
          "text": [
            "1\n",
            "2\n",
            "3\n",
            "in the else-block\n",
            "Outside of for loop\n"
          ],
          "name": "stdout"
        }
      ]
    },
    {
      "cell_type": "markdown",
      "metadata": {
        "id": "RinedMWEbHvo",
        "colab_type": "text"
      },
      "source": [
        "# Python Program to check given number is Prime number or not (using break)\n"
      ]
    },
    {
      "cell_type": "code",
      "metadata": {
        "id": "YMyA2u4JbHvp",
        "colab_type": "code",
        "colab": {},
        "outputId": "2272293b-cf83-49ab-ff8d-1c698a2aec20"
      },
      "source": [
        "num = int(input(\"Enter a number: \"))        #convert string to int\n",
        "\n",
        "\n",
        "isDivisible = False;\n",
        "\n",
        "i=2;\n",
        "while i < num:\n",
        "    if num % i == 0:\n",
        "        isDivisible = True;\n",
        "        print (\"{} is divisible by {}\".format(num,i) )\n",
        "        break; # this line is the only addition.\n",
        "    i += 1;\n",
        "    \n",
        "if isDivisible:\n",
        "    print(\"{} is NOT a Prime number\".format(num))\n",
        "else:\n",
        "    print(\"{} is a Prime number\".format(num))"
      ],
      "execution_count": null,
      "outputs": [
        {
          "output_type": "stream",
          "text": [
            "Enter a number: 16\n",
            "16 is divisible by 2\n",
            "16 is NOT a Prime number\n"
          ],
          "name": "stdout"
        }
      ]
    },
    {
      "cell_type": "markdown",
      "metadata": {
        "id": "QO76VTitbHvt",
        "colab_type": "text"
      },
      "source": [
        "# Python Continue Statement"
      ]
    },
    {
      "cell_type": "markdown",
      "metadata": {
        "id": "YiAeAbeDbHvt",
        "colab_type": "text"
      },
      "source": [
        "syntax:\n",
        "    \n",
        "    continue"
      ]
    },
    {
      "cell_type": "markdown",
      "metadata": {
        "id": "fOQWieXrbHvv",
        "colab_type": "text"
      },
      "source": [
        "# Flow Chart"
      ]
    },
    {
      "cell_type": "markdown",
      "metadata": {
        "id": "4efWz_0wbHvw",
        "colab_type": "text"
      },
      "source": [
        "![title](continue.jpg)"
      ]
    },
    {
      "cell_type": "markdown",
      "metadata": {
        "id": "h3UBPJSMbHvw",
        "colab_type": "text"
      },
      "source": [
        "![title](continue_works.jpg)"
      ]
    },
    {
      "cell_type": "markdown",
      "metadata": {
        "id": "Bdk9BNsebHvy",
        "colab_type": "text"
      },
      "source": [
        "# Example"
      ]
    },
    {
      "cell_type": "code",
      "metadata": {
        "id": "wuPT1JLvbHvz",
        "colab_type": "code",
        "colab": {
          "base_uri": "https://localhost:8080/",
          "height": 34
        },
        "outputId": "309dadca-40f8-46ff-dc92-c97a3a8ee46d"
      },
      "source": [
        "#print odd numbers present in a list\n",
        "numbers = [1, 2, 3, 4, 5]\n",
        "\n",
        "for num in numbers:\n",
        "    if num % 2 == 0:\n",
        "        break\n",
        "    print(num)\n",
        "else:\n",
        "    print(\"else-block\")"
      ],
      "execution_count": 4,
      "outputs": [
        {
          "output_type": "stream",
          "text": [
            "1\n"
          ],
          "name": "stdout"
        }
      ]
    },
    {
      "cell_type": "code",
      "metadata": {
        "id": "29TGPUjnbHv3",
        "colab_type": "code",
        "colab": {}
      },
      "source": [
        ""
      ],
      "execution_count": null,
      "outputs": []
    }
  ]
}